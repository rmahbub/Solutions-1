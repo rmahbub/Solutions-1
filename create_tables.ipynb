{
 "cells": [
  {
   "cell_type": "code",
   "execution_count": 22,
   "metadata": {},
   "outputs": [
    {
     "name": "stdout",
     "output_type": "stream",
     "text": [
      "The sql extension is already loaded. To reload it, use:\n",
      "  %reload_ext sql\n"
     ]
    }
   ],
   "source": [
    "import pandas as pd\n",
    "import sqlite3\n",
    "%load_ext sql\n",
    "%sql sqlite:///testdb.sqlite\n",
    "    \n"
   ]
  },
  {
   "cell_type": "code",
   "execution_count": 23,
   "metadata": {},
   "outputs": [],
   "source": [
    "# sample data\n",
    "models = pd.read_csv('interview-takehome/data/models.csv', sep=',')\n",
    "plans = pd.read_csv('interview-takehome/data/plans.csv', sep=',')\n",
    "shipments = pd.read_csv('interview-takehome/data/shipments.csv', sep=',')\n",
    "\n",
    "#models.columns = [c.strip() for c in models.columns]\n",
    "\n",
    "# create db connection\n",
    "conn = sqlite3.connect('testdb.sqlite')\n",
    "\n",
    "# create a database table with the proper types to match the DataFrame types and insert all of the rows.\n",
    "models.to_sql('models', conn, if_exists='replace', index=False)\n",
    "plans.to_sql('plans', conn, if_exists='replace', index=False)\n",
    "shipments.to_sql('shipments', conn, if_exists='replace', index=False)"
   ]
  },
  {
   "cell_type": "code",
   "execution_count": 24,
   "metadata": {},
   "outputs": [
    {
     "name": "stdout",
     "output_type": "stream",
     "text": [
      " * sqlite:///testdb.sqlite\n",
      "Done.\n"
     ]
    },
    {
     "data": {
      "text/html": [
       "<table>\n",
       "    <tr>\n",
       "        <th>type</th>\n",
       "        <th>name</th>\n",
       "        <th>tbl_name</th>\n",
       "        <th>rootpage</th>\n",
       "        <th>sql</th>\n",
       "    </tr>\n",
       "    <tr>\n",
       "        <td>table</td>\n",
       "        <td>models</td>\n",
       "        <td>models</td>\n",
       "        <td>2</td>\n",
       "        <td>CREATE TABLE &quot;models&quot; (<br>&quot;model_id&quot; INTEGER,<br>  &quot;model_name&quot; TEXT,<br>  &quot;open_circuit_voltage&quot; REAL,<br>  &quot;energy&quot; REAL,<br>  &quot;resistance&quot; INTEGER,<br>  &quot;capacity&quot; REAL<br>)</td>\n",
       "    </tr>\n",
       "    <tr>\n",
       "        <td>table</td>\n",
       "        <td>plans</td>\n",
       "        <td>plans</td>\n",
       "        <td>3</td>\n",
       "        <td>CREATE TABLE &quot;plans&quot; (<br>&quot;plan&quot; TEXT,<br>  &quot;cell_id&quot; TEXT,<br>  &quot;model_name&quot; TEXT,<br>  &quot;current&quot; REAL,<br>  &quot;voltage&quot; REAL,<br>  &quot;epoch&quot; INTEGER<br>)</td>\n",
       "    </tr>\n",
       "    <tr>\n",
       "        <td>table</td>\n",
       "        <td>shipments</td>\n",
       "        <td>shipments</td>\n",
       "        <td>4</td>\n",
       "        <td>CREATE TABLE &quot;shipments&quot; (<br>&quot;received_date&quot; TEXT,<br>  &quot;model_name&quot; TEXT,<br>  &quot;cell_id&quot; TEXT<br>)</td>\n",
       "    </tr>\n",
       "</table>"
      ],
      "text/plain": [
       "[('table', 'models', 'models', 2, 'CREATE TABLE \"models\" (\\n\"model_id\" INTEGER,\\n  \"model_name\" TEXT,\\n  \"open_circuit_voltage\" REAL,\\n  \"energy\" REAL,\\n  \"resistance\" INTEGER,\\n  \"capacity\" REAL\\n)'),\n",
       " ('table', 'plans', 'plans', 3, 'CREATE TABLE \"plans\" (\\n\"plan\" TEXT,\\n  \"cell_id\" TEXT,\\n  \"model_name\" TEXT,\\n  \"current\" REAL,\\n  \"voltage\" REAL,\\n  \"epoch\" INTEGER\\n)'),\n",
       " ('table', 'shipments', 'shipments', 4, 'CREATE TABLE \"shipments\" (\\n\"received_date\" TEXT,\\n  \"model_name\" TEXT,\\n  \"cell_id\" TEXT\\n)')]"
      ]
     },
     "execution_count": 24,
     "metadata": {},
     "output_type": "execute_result"
    }
   ],
   "source": [
    "%%sql\n",
    "SELECT * FROM sqlite_master WHERE type='table';"
   ]
  }
 ],
 "metadata": {
  "kernelspec": {
   "display_name": "Python 3",
   "language": "python",
   "name": "python3"
  },
  "language_info": {
   "codemirror_mode": {
    "name": "ipython",
    "version": 3
   },
   "file_extension": ".py",
   "mimetype": "text/x-python",
   "name": "python",
   "nbconvert_exporter": "python",
   "pygments_lexer": "ipython3",
   "version": "3.7.0"
  }
 },
 "nbformat": 4,
 "nbformat_minor": 2
}
